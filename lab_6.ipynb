{
  "nbformat": 4,
  "nbformat_minor": 0,
  "metadata": {
    "colab": {
      "provenance": [],
      "authorship_tag": "ABX9TyO8zDGz1HQxAapnK10pRUIk",
      "include_colab_link": true
    },
    "kernelspec": {
      "name": "python3",
      "display_name": "Python 3"
    },
    "language_info": {
      "name": "python"
    }
  },
  "cells": [
    {
      "cell_type": "markdown",
      "metadata": {
        "id": "view-in-github",
        "colab_type": "text"
      },
      "source": [
        "<a href=\"https://colab.research.google.com/github/2303A52416/2303A52416/blob/main/lab_6.ipynb\" target=\"_parent\"><img src=\"https://colab.research.google.com/assets/colab-badge.svg\" alt=\"Open In Colab\"/></a>"
      ]
    },
    {
      "cell_type": "code",
      "source": [
        "import pandas as pd\n",
        "from scipy.stats import norm\n",
        "\n",
        "# Load the dataset\n",
        "url = \"https://raw.githubusercontent.com/ageron/handson-ml/master/datasets/housing/housing.csv\"\n",
        "data = pd.read_csv(url)\n",
        "\n",
        "# Define a function to calculate MLE for a given column\n",
        "def calculate_mle(column):\n",
        "    mean = column.mean()\n",
        "    std = column.std()\n",
        "    return mean, std\n",
        "\n",
        "# Columns of interest\n",
        "columns = ['latitude', 'total_rooms', 'housing_median_age', 'total_bedrooms']\n",
        "\n",
        "# Calculate MLE for each column\n",
        "mle_results = {}\n",
        "for col in columns:\n",
        "    mean, std = calculate_mle(data[col])\n",
        "    mle_results[col] = {'mean': mean, 'std': std}\n",
        "\n",
        "# Print the results\n",
        "for col, params in mle_results.items():\n",
        "    print(f\"Column: {col}\")\n",
        "    print(f\"Mean (MLE): {params['mean']}\")\n",
        "    print(f\"Standard Deviation (MLE): {params['std']}\\n\")"
      ],
      "metadata": {
        "colab": {
          "base_uri": "https://localhost:8080/"
        },
        "id": "87H745bcogHJ",
        "outputId": "271841a3-e982-466e-973c-f114d877ea9b"
      },
      "execution_count": null,
      "outputs": [
        {
          "output_type": "stream",
          "name": "stdout",
          "text": [
            "Column: latitude\n",
            "Mean (MLE): 35.63186143410853\n",
            "Standard Deviation (MLE): 2.1359523974571153\n",
            "\n",
            "Column: total_rooms\n",
            "Mean (MLE): 2635.7630813953488\n",
            "Standard Deviation (MLE): 2181.615251582795\n",
            "\n",
            "Column: housing_median_age\n",
            "Mean (MLE): 28.639486434108527\n",
            "Standard Deviation (MLE): 12.58555761211165\n",
            "\n",
            "Column: total_bedrooms\n",
            "Mean (MLE): 537.8705525375618\n",
            "Standard Deviation (MLE): 421.3850700740323\n",
            "\n"
          ]
        }
      ]
    },
    {
      "cell_type": "code",
      "source": [
        "import pandas as pd\n",
        "from scipy.stats import norm\n",
        "\n",
        "# Load the dataset\n",
        "url = \"https://raw.githubusercontent.com/ageron/handson-ml/master/datasets/housing/housing.csv\"\n",
        "data = pd.read_csv(url)\n",
        "\n",
        "# Define a function to calculate MLE for a given column\n",
        "def calculate_mle(column):\n",
        "    mean = column.mean()\n",
        "    std = column.std()\n",
        "    return mean, std\n",
        "\n",
        "# Columns of interest\n",
        "columns = ['latitude', 'total_rooms', 'housing_median_age', 'total_bedrooms']\n",
        "\n",
        "# Calculate MLE for each column\n",
        "mle_results = {}\n",
        "for col in columns:\n",
        "    mean, std = calculate_mle(data[col])\n",
        "    mle_results[col] = {'mean': mean, 'std': std}\n",
        "\n",
        "# Print the results\n",
        "for col, params in mle_results.items():\n",
        "    print(f\"Column: {col}\")\n",
        "    print(f\"Mean (MLE): {params['mean']}\")\n",
        "    print(f\"Standard Deviation (MLE): {params['std']}\\n\")\n"
      ],
      "metadata": {
        "colab": {
          "base_uri": "https://localhost:8080/"
        },
        "id": "7zaKKDUTnA5m",
        "outputId": "b00a23ac-5b10-43e6-d283-bf29e96d2f6b"
      },
      "execution_count": null,
      "outputs": [
        {
          "output_type": "stream",
          "name": "stdout",
          "text": [
            "Column: latitude\n",
            "Mean (MLE): 35.63186143410853\n",
            "Standard Deviation (MLE): 2.1359523974571153\n",
            "\n",
            "Column: total_rooms\n",
            "Mean (MLE): 2635.7630813953488\n",
            "Standard Deviation (MLE): 2181.615251582795\n",
            "\n",
            "Column: housing_median_age\n",
            "Mean (MLE): 28.639486434108527\n",
            "Standard Deviation (MLE): 12.58555761211165\n",
            "\n",
            "Column: total_bedrooms\n",
            "Mean (MLE): 537.8705525375618\n",
            "Standard Deviation (MLE): 421.3850700740323\n",
            "\n"
          ]
        }
      ]
    },
    {
      "cell_type": "code",
      "execution_count": null,
      "metadata": {
        "colab": {
          "base_uri": "https://localhost:8080/"
        },
        "id": "moVEoJIAlqgN",
        "outputId": "3fb05796-ef60-4025-caf4-fef70613ae60"
      },
      "outputs": [
        {
          "output_type": "stream",
          "name": "stdout",
          "text": [
            "Column: latitude\n",
            "Mean (MLE): 35.63186143410853\n",
            "Standard Deviation (MLE): 2.1359523974571153\n",
            "\n",
            "Column: total_rooms\n",
            "Mean (MLE): 2635.7630813953488\n",
            "Standard Deviation (MLE): 2181.615251582795\n",
            "\n",
            "Column: housing_median_age\n",
            "Mean (MLE): 28.639486434108527\n",
            "Standard Deviation (MLE): 12.58555761211165\n",
            "\n",
            "Column: total_bedrooms\n",
            "Mean (MLE): 537.8705525375618\n",
            "Standard Deviation (MLE): 421.3850700740323\n",
            "\n"
          ]
        }
      ],
      "source": [
        "import pandas as pd\n",
        "from scipy.stats import norm\n",
        "\n",
        "# Load the dataset\n",
        "url = \"https://raw.githubusercontent.com/ageron/handson-ml/master/datasets/housing/housing.csv\"\n",
        "data = pd.read_csv(url)\n",
        "\n",
        "# Define a function to calculate MLE for a given column\n",
        "def calculate_mle(column):\n",
        "    mean = column.mean()\n",
        "    std = column.std()\n",
        "    return mean, std\n",
        "\n",
        "# Columns of interest\n",
        "columns = ['latitude', 'total_rooms', 'housing_median_age', 'total_bedrooms']\n",
        "\n",
        "# Calculate MLE for each column\n",
        "mle_results = {}\n",
        "for col in columns:\n",
        "    mean, std = calculate_mle(data[col])\n",
        "    mle_results[col] = {'mean': mean, 'std': std}\n",
        "\n",
        "# Print the results\n",
        "for col, params in mle_results.items():\n",
        "    print(f\"Column: {col}\")\n",
        "    print(f\"Mean (MLE): {params['mean']}\")\n",
        "    print(f\"Standard Deviation (MLE): {params['std']}\\n\")\n"
      ]
    }
  ]
}